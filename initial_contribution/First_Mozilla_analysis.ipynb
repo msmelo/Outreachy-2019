{
 "cells": [
  {
   "cell_type": "markdown",
   "metadata": {},
   "source": [
    "In this analysis I want to evaluate the feature that best describes SalePrice feature of my dataset.\n",
    "I've decided to use two approaches and compare them: to calculate the correlation between the features and to use Feature Importance."
   ]
  },
  {
   "cell_type": "code",
   "execution_count": 1,
   "metadata": {},
   "outputs": [],
   "source": [
    "#Importing necessary libraries\n",
    "import numpy as np\n",
    "import pandas as pd\n",
    "import seaborn as sns\n",
    "import matplotlib.pyplot as plt\n",
    "\n",
    "#I want to also evaluate the categorical features\n",
    "from sklearn.preprocessing import OneHotEncoder, LabelEncoder\n",
    "\n",
    "#To deal with NaN values of categorical features\n",
    "from sklearn.impute import SimpleImputer\n",
    "\n",
    "#Later I want to compare this analysis with Feature Importance analysis\n",
    "from sklearn.ensemble import ExtraTreesClassifier\n",
    "\n",
    "#Loading the data\n",
    "data = pd.read_csv('dataset.csv')\n",
    "prices = data['SalePrice']\n",
    "features = data.drop('SalePrice', axis=1)\n"
   ]
  },
  {
   "cell_type": "code",
   "execution_count": 2,
   "metadata": {},
   "outputs": [
    {
     "name": "stdout",
     "output_type": "stream",
     "text": [
      "Minimum price: $34900\n",
      "Maximum price: $755000\n",
      "Mean price: $180921.19589041095\n",
      "Median price: $163000.0\n",
      "Standard deviation of prices price: $79415.29188606751\n"
     ]
    }
   ],
   "source": [
    "#Statistics\n",
    "minimum_price = np.amin(prices)\n",
    "maximum_price = np.amax(prices)\n",
    "mean_price = np.mean(prices)\n",
    "median_price = np.median(prices)\n",
    "std_price = np.std(prices)\n",
    "\n",
    "print(\"Minimum price: ${}\".format(minimum_price))\n",
    "print(\"Maximum price: ${}\".format(maximum_price))\n",
    "print(\"Mean price: ${}\".format(mean_price))\n",
    "print(\"Median price: ${}\".format(median_price))\n",
    "print(\"Standard deviation of prices price: ${}\".format(std_price))"
   ]
  },
  {
   "cell_type": "markdown",
   "metadata": {},
   "source": [
    "The sale prices range from 34.9k to 755k.\n"
   ]
  },
  {
   "cell_type": "code",
   "execution_count": 3,
   "metadata": {},
   "outputs": [
    {
     "name": "stdout",
     "output_type": "stream",
     "text": [
      "<class 'pandas.core.frame.DataFrame'>\n",
      "RangeIndex: 1460 entries, 0 to 1459\n",
      "Data columns (total 81 columns):\n",
      "Id               1460 non-null int64\n",
      "MSSubClass       1460 non-null int64\n",
      "MSZoning         1460 non-null object\n",
      "LotFrontage      1201 non-null float64\n",
      "LotArea          1460 non-null int64\n",
      "Street           1460 non-null object\n",
      "Alley            91 non-null object\n",
      "LotShape         1460 non-null object\n",
      "LandContour      1460 non-null object\n",
      "Utilities        1460 non-null object\n",
      "LotConfig        1460 non-null object\n",
      "LandSlope        1460 non-null object\n",
      "Neighborhood     1460 non-null object\n",
      "Condition1       1460 non-null object\n",
      "Condition2       1460 non-null object\n",
      "BldgType         1460 non-null object\n",
      "HouseStyle       1460 non-null object\n",
      "OverallQual      1460 non-null int64\n",
      "OverallCond      1460 non-null int64\n",
      "YearBuilt        1460 non-null int64\n",
      "YearRemodAdd     1460 non-null int64\n",
      "RoofStyle        1460 non-null object\n",
      "RoofMatl         1460 non-null object\n",
      "Exterior1st      1460 non-null object\n",
      "Exterior2nd      1460 non-null object\n",
      "MasVnrType       1452 non-null object\n",
      "MasVnrArea       1452 non-null float64\n",
      "ExterQual        1460 non-null object\n",
      "ExterCond        1460 non-null object\n",
      "Foundation       1460 non-null object\n",
      "BsmtQual         1423 non-null object\n",
      "BsmtCond         1423 non-null object\n",
      "BsmtExposure     1422 non-null object\n",
      "BsmtFinType1     1423 non-null object\n",
      "BsmtFinSF1       1460 non-null int64\n",
      "BsmtFinType2     1422 non-null object\n",
      "BsmtFinSF2       1460 non-null int64\n",
      "BsmtUnfSF        1460 non-null int64\n",
      "TotalBsmtSF      1460 non-null int64\n",
      "Heating          1460 non-null object\n",
      "HeatingQC        1460 non-null object\n",
      "CentralAir       1460 non-null object\n",
      "Electrical       1459 non-null object\n",
      "1stFlrSF         1460 non-null int64\n",
      "2ndFlrSF         1460 non-null int64\n",
      "LowQualFinSF     1460 non-null int64\n",
      "GrLivArea        1460 non-null int64\n",
      "BsmtFullBath     1460 non-null int64\n",
      "BsmtHalfBath     1460 non-null int64\n",
      "FullBath         1460 non-null int64\n",
      "HalfBath         1460 non-null int64\n",
      "BedroomAbvGr     1460 non-null int64\n",
      "KitchenAbvGr     1460 non-null int64\n",
      "KitchenQual      1460 non-null object\n",
      "TotRmsAbvGrd     1460 non-null int64\n",
      "Functional       1460 non-null object\n",
      "Fireplaces       1460 non-null int64\n",
      "FireplaceQu      770 non-null object\n",
      "GarageType       1379 non-null object\n",
      "GarageYrBlt      1379 non-null float64\n",
      "GarageFinish     1379 non-null object\n",
      "GarageCars       1460 non-null int64\n",
      "GarageArea       1460 non-null int64\n",
      "GarageQual       1379 non-null object\n",
      "GarageCond       1379 non-null object\n",
      "PavedDrive       1460 non-null object\n",
      "WoodDeckSF       1460 non-null int64\n",
      "OpenPorchSF      1460 non-null int64\n",
      "EnclosedPorch    1460 non-null int64\n",
      "3SsnPorch        1460 non-null int64\n",
      "ScreenPorch      1460 non-null int64\n",
      "PoolArea         1460 non-null int64\n",
      "PoolQC           7 non-null object\n",
      "Fence            281 non-null object\n",
      "MiscFeature      54 non-null object\n",
      "MiscVal          1460 non-null int64\n",
      "MoSold           1460 non-null int64\n",
      "YrSold           1460 non-null int64\n",
      "SaleType         1460 non-null object\n",
      "SaleCondition    1460 non-null object\n",
      "SalePrice        1460 non-null int64\n",
      "dtypes: float64(3), int64(35), object(43)\n",
      "memory usage: 924.0+ KB\n"
     ]
    },
    {
     "data": {
      "text/plain": [
       "<matplotlib.axes._subplots.AxesSubplot at 0x158cc299320>"
      ]
     },
     "execution_count": 3,
     "metadata": {},
     "output_type": "execute_result"
    },
    {
     "data": {
      "image/png": "[encoded data removed]",
      "text/plain": [
       "<Figure size 432x288 with 1 Axes>"
      ]
     },
     "metadata": {
      "needs_background": "light"
     },
     "output_type": "display_data"
    }
   ],
   "source": [
    "#Analysing the features\n",
    "data.info()\n",
    "\n",
    "#Sale price distribution\n",
    "sns.distplot(prices)"
   ]
  },
  {
   "cell_type": "markdown",
   "metadata": {},
   "source": [
    "It seems that we have 38 continuous and 43 categorical features.\n",
    "Based on the SalePrice distribution, there are more samples with a sale price between 100k and 200k.\n"
   ]
  },
  {
   "cell_type": "markdown",
   "metadata": {},
   "source": [
    "To beggin the analysis, I want to separate the categorical from the continuous features."
   ]
  },
  {
   "cell_type": "code",
   "execution_count": 4,
   "metadata": {},
   "outputs": [],
   "source": [
    "continuous = data.select_dtypes(include=['float64','int64']).copy()\n",
    "categorical = data.select_dtypes(include=['object']).copy()"
   ]
  },
  {
   "cell_type": "markdown",
   "metadata": {},
   "source": [
    "While analysing data_description, we can see that there are three discrete features that are not objects: MSSubClass, OverallQual and OverallCond.\n",
    "Lets extract them from continuous and add them to categorical."
   ]
  },
  {
   "cell_type": "code",
   "execution_count": 5,
   "metadata": {},
   "outputs": [],
   "source": [
    "continuous = continuous.drop([\"MSSubClass\",\"OverallQual\",\"OverallCond\"], axis = 1)\n",
    "categorical[\"MSSubClass\"] = data[\"MSSubClass\"]\n",
    "categorical[\"OverallQual\"] = data[\"OverallQual\"]\n",
    "categorical[\"OverallCond\"] = data[\"OverallCond\"]\n"
   ]
  },
  {
   "cell_type": "markdown",
   "metadata": {},
   "source": [
    "Now we have all categorical features in categorical dataset. Since some of them have hierarchy and some have not, the next step is to divide them with respect to this. The ones with hierarchy can have LabelEncoder applied to, the others should have OneHotEncoder, since LabelEncoder shouldn't be applied to non-hierarchical features.\n",
    "\n",
    "The ones with hierarchy are: ExterQual, ExterCond, BsmtQual, BsmtCond, BsmtExposure, BsmtFinType1, BsmtFinType2, HeatingQC, KitchenQual, Functional, FireplaceQu, GarageFinish, GarageQual, GarageCond, PoolQC."
   ]
  },
  {
   "cell_type": "code",
   "execution_count": 6,
   "metadata": {},
   "outputs": [],
   "source": [
    "#Categorical featurel without hierarchy (categ)\n",
    "categ = categorical.copy()\n",
    "#Categorical features with hierarchy (categ_hier)\n",
    "categ_hier = pd.DataFrame()\n",
    "\n",
    "hierarchy_names = ['ExterQual','ExterCond','BsmtQual','BsmtCond','BsmtExposure','BsmtFinType1','BsmtFinType2','HeatingQC','KitchenQual','Functional','FireplaceQu','GarageFinish','GarageQual','GarageCond','PoolQC']\n",
    "for name in hierarchy_names:\n",
    "    categ_hier[name] = data[name]\n",
    "    categ = categ.drop(name, axis=1) \n"
   ]
  },
  {
   "cell_type": "markdown",
   "metadata": {},
   "source": [
    "Now we organized our data: continuous features, categorical non-hierarchical features and categorical hierarchical features.\n",
    "\n",
    "Let's start analysing the continuous features.\n",
    "To do so, we are going to check the ones with null values and see the porcentage of it, so we can deal it them."
   ]
  },
  {
   "cell_type": "markdown",
   "metadata": {},
   "source": [
    "Initially, ID won't be important to our analysis, since it does not influence the SalesPrice"
   ]
  },
  {
   "cell_type": "code",
   "execution_count": 7,
   "metadata": {},
   "outputs": [],
   "source": [
    "continuous = continuous.drop(['Id'], axis=1)"
   ]
  },
  {
   "cell_type": "code",
   "execution_count": 8,
   "metadata": {},
   "outputs": [
    {
     "name": "stdout",
     "output_type": "stream",
     "text": [
      "% of null values:\n",
      "LotFrontage 0.1773972602739726\n",
      "MasVnrArea 0.005479452054794521\n",
      "GarageYrBlt 0.05547945205479452\n"
     ]
    }
   ],
   "source": [
    "print('% of null values:')\n",
    "for feature in continuous:\n",
    "    porcentage_of_zeros = continuous[feature].isnull().sum()/1460\n",
    "    if porcentage_of_zeros != 0:\n",
    "        print(feature + \" \" + str(porcentage_of_zeros))"
   ]
  },
  {
   "cell_type": "markdown",
   "metadata": {},
   "source": [
    "I see that in continuous dataset the LotFrontage feature has the higher porcentage of null values: 17.7%. As this number is not very high, I'm going to  decided to deal with the null values using MostFrequent strategy in SimpleImputer."
   ]
  },
  {
   "cell_type": "code",
   "execution_count": 9,
   "metadata": {},
   "outputs": [],
   "source": [
    "for feature in continuous:\n",
    "    porcentage_of_zeros = continuous[feature].isnull().sum()/1460\n",
    "    if porcentage_of_zeros != 0:\n",
    "        imp = SimpleImputer(missing_values=np.nan, strategy=\"most_frequent\")\n",
    "        continuous[feature] = imp.fit_transform(continuous)"
   ]
  },
  {
   "cell_type": "markdown",
   "metadata": {},
   "source": [
    "I'm going to check the correlation between the features and SalePrice, by using .corr(). I decided to use Pearson method and visualize it in a heatmap."
   ]
  },
  {
   "cell_type": "code",
   "execution_count": 10,
   "metadata": {},
   "outputs": [
    {
     "data": {
      "text/plain": [
       "<matplotlib.axes._subplots.AxesSubplot at 0x158cc7020f0>"
      ]
     },
     "execution_count": 10,
     "metadata": {},
     "output_type": "execute_result"
    },
    {
     "data": {
      "image/png": "[encoded data removed]",
      "text/plain": [
       "<Figure size 432x288 with 2 Axes>"
      ]
     },
     "metadata": {
      "needs_background": "light"
     },
     "output_type": "display_data"
    }
   ],
   "source": [
    "continuous_corr = continuous.corr(method=\"pearson\")\n",
    "sns.heatmap(continuous_corr, cmap=plt.cm.hot, mask = continuous_corr.isnull())"
   ]
  },
  {
   "cell_type": "code",
   "execution_count": 11,
   "metadata": {},
   "outputs": [
    {
     "name": "stdout",
     "output_type": "stream",
     "text": [
      "YearBuilt       0.522897\n",
      "YearRemodAdd    0.507101\n",
      "TotalBsmtSF     0.613581\n",
      "1stFlrSF        0.605852\n",
      "GrLivArea       0.708624\n",
      "FullBath        0.560664\n",
      "TotRmsAbvGrd    0.533723\n",
      "GarageCars      0.640409\n",
      "GarageArea      0.623431\n",
      "SalePrice       1.000000\n",
      "Name: SalePrice, dtype: float64\n"
     ]
    }
   ],
   "source": [
    "# Listing the correlation between each feature and SalePrice\n",
    "coef = abs(continuous_corr[\"SalePrice\"])\n",
    "\n",
    "#The most relevant features will be the ones with a higher absolute value for the coefficient.\n",
    "selected_features = coef[coef>0.5]\n",
    "print(selected_features)"
   ]
  },
  {
   "cell_type": "markdown",
   "metadata": {},
   "source": [
    "Given the coefficients, we know that the higher the value, the better its feature describes SalePrice.\n",
    "Based on the analysis for the continuous features, GrLivArea best describes SalePrice feature (coefficient of 0.708624)."
   ]
  },
  {
   "cell_type": "markdown",
   "metadata": {},
   "source": [
    "Now I am going to analyse the categorical features.\n",
    "Starting with non-hierarchical dataset, categ, we will find the features with null values, deal with them, apply OneHotEncoder and calculate the correlation using .corr().\n",
    "I need to add SalePrice to it in the end, before calculating the correlation."
   ]
  },
  {
   "cell_type": "code",
   "execution_count": 12,
   "metadata": {},
   "outputs": [
    {
     "name": "stdout",
     "output_type": "stream",
     "text": [
      "Alley 0.9376712328767123\n",
      "MasVnrType 0.005479452054794521\n",
      "Electrical 0.0006849315068493151\n",
      "GarageType 0.05547945205479452\n",
      "Fence 0.8075342465753425\n",
      "MiscFeature 0.963013698630137\n"
     ]
    }
   ],
   "source": [
    "for feature in categ:\n",
    "    porcentage_of_zeros = categ[feature].isnull().sum()/1460\n",
    "    if porcentage_of_zeros != 0:\n",
    "        print(feature + \" \" + str(porcentage_of_zeros))"
   ]
  },
  {
   "cell_type": "markdown",
   "metadata": {},
   "source": [
    "We see the ones with high porcentage of null values: Alley (93.7%), Fence (80.75%) and MiscFeature (96.3%).\n",
    "I won't calculate their correlation, since I believe that dealing with so many null values by applying SimpleImputer with MostFrequent strategy could affect the quality of my analysis.\n",
    "Let's visualize them in a boxplot."
   ]
  },
  {
   "cell_type": "code",
   "execution_count": 13,
   "metadata": {},
   "outputs": [
    {
     "data": {
      "text/plain": [
       "<matplotlib.axes._subplots.AxesSubplot at 0x158cc884940>"
      ]
     },
     "execution_count": 13,
     "metadata": {},
     "output_type": "execute_result"
    },
    {
     "data": {
      "image/png": "[encoded data removed]",
      "text/plain": [
       "<Figure size 432x288 with 1 Axes>"
      ]
     },
     "metadata": {
      "needs_background": "light"
     },
     "output_type": "display_data"
    },
    {
     "data": {
      "image/png": "[encoded data removed]",
      "text/plain": [
       "<Figure size 432x288 with 1 Axes>"
      ]
     },
     "metadata": {
      "needs_background": "light"
     },
     "output_type": "display_data"
    },
    {
     "data": {
      "image/png": "[encoded data removed]",
      "text/plain": [
       "<Figure size 432x288 with 1 Axes>"
      ]
     },
     "metadata": {
      "needs_background": "light"
     },
     "output_type": "display_data"
    }
   ],
   "source": [
    "data.boxplot(\"SalePrice\",\"Alley\")\n",
    "data.boxplot(\"SalePrice\",\"Fence\")\n",
    "data.boxplot(\"SalePrice\",\"MiscFeature\")"
   ]
  },
  {
   "cell_type": "markdown",
   "metadata": {},
   "source": [
    "In Alley boxplot we notice that a paved alley could be related to a higher price of the house, when compared to gravel alleys.\n",
    "In Fence boxplot we can't see a good relation between the types of fences and the SalePrice. It happened also for MiscFeatue. However it is interesting to notice the houses with a second garage (Gar2) have most of its prices between 150k and approx. 180k. Even thought I believe that an expensive house would have a second garage, we have to remember that 96.3% of the values of MiscFeature are null. This indicates the importance of having more data.\n",
    "\n",
    "Now we will delete them from categ dataset and analyse the rest."
   ]
  },
  {
   "cell_type": "code",
   "execution_count": 14,
   "metadata": {},
   "outputs": [],
   "source": [
    "categ = categ.drop([\"Alley\",\"Fence\",\"MiscFeature\"], axis=1)"
   ]
  },
  {
   "cell_type": "markdown",
   "metadata": {},
   "source": [
    "Now we will deal with NaN values and apply OneHotEncoder (OHE).\n",
    "It's important to notice that we don't have SalePrice feature in categorical_to_numeric data set, as we don't want to change its values with OHE. We will add it in the end, calculate the correlation using Pearson method and select the ones with a higher coefficient.\n"
   ]
  },
  {
   "cell_type": "code",
   "execution_count": 15,
   "metadata": {},
   "outputs": [],
   "source": [
    "for feature in categ:\n",
    "    porcentage_of_zeros = categ[feature].isnull().sum()/1460\n",
    "    if porcentage_of_zeros != 0:\n",
    "        imp = SimpleImputer(missing_values=np.nan,strategy=\"most_frequent\")\n",
    "        categ[feature] = imp.fit_transform(categ)"
   ]
  },
  {
   "cell_type": "code",
   "execution_count": 16,
   "metadata": {},
   "outputs": [
    {
     "name": "stdout",
     "output_type": "stream",
     "text": [
      "<class 'pandas.core.frame.DataFrame'>\n",
      "RangeIndex: 1460 entries, 0 to 1459\n",
      "Data columns (total 28 columns):\n",
      "MSZoning         1460 non-null float64\n",
      "Street           1460 non-null float64\n",
      "LotShape         1460 non-null float64\n",
      "LandContour      1460 non-null float64\n",
      "Utilities        1460 non-null float64\n",
      "LotConfig        1460 non-null float64\n",
      "LandSlope        1460 non-null float64\n",
      "Neighborhood     1460 non-null float64\n",
      "Condition1       1460 non-null float64\n",
      "Condition2       1460 non-null float64\n",
      "BldgType         1460 non-null float64\n",
      "HouseStyle       1460 non-null float64\n",
      "RoofStyle        1460 non-null float64\n",
      "RoofMatl         1460 non-null float64\n",
      "Exterior1st      1460 non-null float64\n",
      "Exterior2nd      1460 non-null float64\n",
      "MasVnrType       1460 non-null float64\n",
      "Foundation       1460 non-null float64\n",
      "Heating          1460 non-null float64\n",
      "CentralAir       1460 non-null float64\n",
      "Electrical       1460 non-null float64\n",
      "GarageType       1460 non-null float64\n",
      "PavedDrive       1460 non-null float64\n",
      "SaleType         1460 non-null float64\n",
      "SaleCondition    1460 non-null float64\n",
      "MSSubClass       1460 non-null float64\n",
      "OverallQual      1460 non-null float64\n",
      "OverallCond      1460 non-null float64\n",
      "dtypes: float64(28)\n",
      "memory usage: 319.5 KB\n"
     ]
    }
   ],
   "source": [
    "#OneHotEncoder\n",
    "OHE = OneHotEncoder(categories='auto')\n",
    "\n",
    "for feature in categ:\n",
    "    feature_OHE_arr = OHE.fit_transform(categ[[feature]]).toarray()\n",
    "    categ[feature] = feature_OHE_arr\n",
    "categ.info()"
   ]
  },
  {
   "cell_type": "code",
   "execution_count": 17,
   "metadata": {},
   "outputs": [],
   "source": [
    "categ[\"SalePrice\"] = data[\"SalePrice\"]"
   ]
  },
  {
   "cell_type": "code",
   "execution_count": 18,
   "metadata": {},
   "outputs": [
    {
     "name": "stdout",
     "output_type": "stream",
     "text": [
      "LotShape      0.223284\n",
      "Foundation    0.204117\n",
      "CentralAir    0.251328\n",
      "PavedDrive    0.212630\n",
      "SalePrice     1.000000\n",
      "Name: SalePrice, dtype: float64\n"
     ]
    }
   ],
   "source": [
    "#Pearson method\n",
    "categ_corr = categ.corr(method=\"pearson\")\n",
    "\n",
    "coef_categ = abs(categ_corr[\"SalePrice\"])\n",
    "\n",
    "#Higher absolute values of the coefficient.\n",
    "selected_features = coef_categ[coef_categ>0.2]\n",
    "print(selected_features)"
   ]
  },
  {
   "cell_type": "markdown",
   "metadata": {},
   "source": [
    "Higgest coefficient for the categ dataset: 0.251328 for CentralAir."
   ]
  },
  {
   "cell_type": "markdown",
   "metadata": {},
   "source": [
    "Now with hierarchical dataset, categ_hier, we will find the features with null values, deal with them, apply LabelEncoder and calculate the correlation using .corr().\n",
    "I need to add SalePrice to it in the end, before calculating the correlation."
   ]
  },
  {
   "cell_type": "code",
   "execution_count": 19,
   "metadata": {},
   "outputs": [
    {
     "name": "stdout",
     "output_type": "stream",
     "text": [
      "BsmtQual 0.025342465753424658\n",
      "BsmtCond 0.025342465753424658\n",
      "BsmtExposure 0.026027397260273973\n",
      "BsmtFinType1 0.025342465753424658\n",
      "BsmtFinType2 0.026027397260273973\n",
      "FireplaceQu 0.4726027397260274\n",
      "GarageFinish 0.05547945205479452\n",
      "GarageQual 0.05547945205479452\n",
      "GarageCond 0.05547945205479452\n",
      "PoolQC 0.9952054794520548\n"
     ]
    }
   ],
   "source": [
    "for feature in categ_hier:\n",
    "    porcentage_of_zeros = categ_hier[feature].isnull().sum()/1460\n",
    "    if porcentage_of_zeros != 0:\n",
    "        print(feature + \" \" + str(porcentage_of_zeros))"
   ]
  },
  {
   "cell_type": "markdown",
   "metadata": {},
   "source": [
    "We see the ones with high porcentage of null values: PoolQC (99.5%) and FireplaceQu (47.3%).\n",
    "Let's visualize them in a boxplot."
   ]
  },
  {
   "cell_type": "code",
   "execution_count": 20,
   "metadata": {},
   "outputs": [
    {
     "data": {
      "text/plain": [
       "<matplotlib.axes._subplots.AxesSubplot at 0x158cc9f9e10>"
      ]
     },
     "execution_count": 20,
     "metadata": {},
     "output_type": "execute_result"
    },
    {
     "data": {
      "image/png": "[encoded data removed]",
      "text/plain": [
       "<Figure size 432x288 with 1 Axes>"
      ]
     },
     "metadata": {
      "needs_background": "light"
     },
     "output_type": "display_data"
    },
    {
     "data": {
      "image/png": "[encoded data removed]",
      "text/plain": [
       "<Figure size 432x288 with 1 Axes>"
      ]
     },
     "metadata": {
      "needs_background": "light"
     },
     "output_type": "display_data"
    }
   ],
   "source": [
    "data.boxplot(\"SalePrice\",\"PoolQC\")\n",
    "data.boxplot(\"SalePrice\",\"FireplaceQu\")"
   ]
  },
  {
   "cell_type": "markdown",
   "metadata": {},
   "source": [
    "Even though the graphic of PoolQC shows a very symetrical boxplot for excellent pool quality, its range is very wide (approx. 240k to 740k. This makes sense, since pool quality couldn't describe so well SalePrice: ex.: a pool with excellent quality could be placed in areas where the prices are lower (location also interferes).\n",
    "\n",
    "The graphic for FireplaceQu doesn't show a good relation between the feature and SalePrice. However it is interesting to see that most of the excellent Fireplaces tracked are related to a SalePrice between approx. 260k and 410k, which is above the high frequency prices tracked on sns.distplot(prices) (they range between 100k and 200k).   \n",
    "\n",
    "Now we will delete them from categ_hier dataset and analyse the rest."
   ]
  },
  {
   "cell_type": "code",
   "execution_count": 21,
   "metadata": {},
   "outputs": [],
   "source": [
    "categ_hier = categ_hier.drop([\"PoolQC\",\"FireplaceQu\"], axis=1)"
   ]
  },
  {
   "cell_type": "markdown",
   "metadata": {},
   "source": [
    "Now we will deal with NaN values and apply LabelEncoder (LE).\n",
    "\n",
    "We will add SalePrice in the end, calculate the correlation using Pearson method and select the ones with a higher coefficient."
   ]
  },
  {
   "cell_type": "markdown",
   "metadata": {},
   "source": [
    "BsmtQual and BsmtCond have 1423 out of 1460 non-null values. \n",
    "BsmtExposure and BsmtFinType2 have 1422 out of 1460. \n",
    "GarageQual, GarageCond and GarageFinish have 1379 out of 1460\n",
    "Since it is not a big amount of NaN values, we will consider as they are NA values (no basement, no garage)"
   ]
  },
  {
   "cell_type": "code",
   "execution_count": 22,
   "metadata": {},
   "outputs": [],
   "source": [
    "categ_hier[\"BsmtQual\"].fillna(\"NA\", inplace = True)\n",
    "categ_hier[\"BsmtCond\"].fillna(\"NA\", inplace = True)\n",
    "categ_hier[\"BsmtExposure\"].fillna(\"NA\", inplace = True)\n",
    "categ_hier[\"BsmtFinType1\"].fillna(\"NA\", inplace = True)\n",
    "categ_hier[\"BsmtFinType2\"].fillna(\"NA\", inplace = True)\n",
    "categ_hier[\"GarageQual\"].fillna(\"NA\", inplace = True)\n",
    "categ_hier[\"GarageCond\"].fillna(\"NA\", inplace = True)\n",
    "categ_hier[\"GarageFinish\"].fillna(\"NA\", inplace = True)"
   ]
  },
  {
   "cell_type": "code",
   "execution_count": 23,
   "metadata": {},
   "outputs": [
    {
     "name": "stdout",
     "output_type": "stream",
     "text": [
      "<class 'pandas.core.frame.DataFrame'>\n",
      "RangeIndex: 1460 entries, 0 to 1459\n",
      "Data columns (total 13 columns):\n",
      "ExterQual       1460 non-null int32\n",
      "ExterCond       1460 non-null int32\n",
      "BsmtQual        1460 non-null int32\n",
      "BsmtCond        1460 non-null int32\n",
      "BsmtExposure    1460 non-null int32\n",
      "BsmtFinType1    1460 non-null int32\n",
      "BsmtFinType2    1460 non-null int32\n",
      "HeatingQC       1460 non-null int32\n",
      "KitchenQual     1460 non-null int32\n",
      "Functional      1460 non-null int32\n",
      "GarageFinish    1460 non-null int32\n",
      "GarageQual      1460 non-null int32\n",
      "GarageCond      1460 non-null int32\n",
      "dtypes: int32(13)\n",
      "memory usage: 74.2 KB\n"
     ]
    }
   ],
   "source": [
    "#LabelEncoder\n",
    "LE = LabelEncoder()\n",
    "\n",
    "for feature in categ_hier:\n",
    "    feature_LE = LE.fit_transform(categ_hier[feature])\n",
    "    categ_hier[feature] = feature_LE\n",
    "\n",
    "categ_hier.info()"
   ]
  },
  {
   "cell_type": "code",
   "execution_count": 24,
   "metadata": {},
   "outputs": [],
   "source": [
    "categ_hier[\"SalePrice\"] = data[\"SalePrice\"]"
   ]
  },
  {
   "cell_type": "code",
   "execution_count": 25,
   "metadata": {
    "scrolled": true
   },
   "outputs": [
    {
     "name": "stdout",
     "output_type": "stream",
     "text": [
      "ExterQual       0.636884\n",
      "BsmtQual        0.593734\n",
      "HeatingQC       0.400178\n",
      "KitchenQual     0.589189\n",
      "GarageFinish    0.425684\n",
      "SalePrice       1.000000\n",
      "Name: SalePrice, dtype: float64\n"
     ]
    }
   ],
   "source": [
    "#Pearson method\n",
    "categ_hier_corr = categ_hier.corr(method=\"pearson\")\n",
    "\n",
    "coef_categ_hier = abs(categ_hier_corr[\"SalePrice\"])\n",
    "\n",
    "#Higher absolute values of the coefficient.\n",
    "selected_features = coef_categ_hier[coef_categ_hier>0.4]\n",
    "print(selected_features)\n"
   ]
  },
  {
   "cell_type": "markdown",
   "metadata": {},
   "source": [
    "Higgest coefficient of the categorical features: 0.589189 (KitchenQual) \n",
    "Higgest coefficient of the continuous features: 0.708624 (GrLivArea) \n",
    "\n",
    "Even thought KitchenQual had the higgest coefficient of the categorical features, \n",
    "its value is smaller than GrLivArea (0.708624), GarageCars(0.640409), GarageArea(0.623431), TotalBsmtSF(0.613581), 1stFlrSF(0.605852), FullBath(0.560664), TotRmsAbvGrd(0.533723) and YearRemodAdd(0.507101), showing that these features could describe better the SalePrice than KitchenQual.\n",
    "\n",
    "Very interesting to notice that all these features with higher coefficient have no null value, which could indicate\n",
    "the influence of having null values on your data.\n",
    "\n",
    "Based on the values found for the coefficient, we can conclude that GrLivArea best describes SalePrice"
   ]
  },
  {
   "cell_type": "markdown",
   "metadata": {},
   "source": [
    "I want to check if this analysis is in accordance with Feature Importance analysis.\n",
    "There are two apprach we could use to do feature importance analysis with Scikit-learn: Extra trees and Random forest.\n",
    "\n"
   ]
  },
  {
   "cell_type": "code",
   "execution_count": 26,
   "metadata": {
    "scrolled": true
   },
   "outputs": [
    {
     "name": "stderr",
     "output_type": "stream",
     "text": [
      "C:\\Users\\julia\\Anaconda3\\lib\\site-packages\\sklearn\\ensemble\\forest.py:245: FutureWarning: The default value of n_estimators will change from 10 in version 0.20 to 100 in 0.22.\n",
      "  \"10 in version 0.20 to 100 in 0.22.\", FutureWarning)\n"
     ]
    },
    {
     "data": {
      "image/png": "[encoded data removed]",
      "text/plain": [
       "<Figure size 432x288 with 1 Axes>"
      ]
     },
     "metadata": {
      "needs_background": "light"
     },
     "output_type": "display_data"
    }
   ],
   "source": [
    "#Continuous values\n",
    "X = continuous.iloc[:,0:32]\n",
    "Y = continuous.iloc[:,-1]\n",
    "\n",
    "model = ExtraTreesClassifier()\n",
    "model.fit(X,Y)\n",
    "\n",
    "feat_importances = pd.Series(model.feature_importances_, index=X.columns)\n",
    "feat_importances.nlargest(10).plot(kind='barh')\n",
    "plt.show()"
   ]
  },
  {
   "cell_type": "code",
   "execution_count": 27,
   "metadata": {},
   "outputs": [
    {
     "name": "stderr",
     "output_type": "stream",
     "text": [
      "C:\\Users\\julia\\Anaconda3\\lib\\site-packages\\sklearn\\ensemble\\forest.py:245: FutureWarning: The default value of n_estimators will change from 10 in version 0.20 to 100 in 0.22.\n",
      "  \"10 in version 0.20 to 100 in 0.22.\", FutureWarning)\n"
     ]
    },
    {
     "data": {
      "image/png": "[encoded data removed]",
      "text/plain": [
       "<Figure size 432x288 with 1 Axes>"
      ]
     },
     "metadata": {
      "needs_background": "light"
     },
     "output_type": "display_data"
    }
   ],
   "source": [
    "#Categorical values\n",
    "X = categ.iloc[:,0:27]\n",
    "Y = categ.iloc[:,-1]\n",
    "\n",
    "model = ExtraTreesClassifier()\n",
    "model.fit(X,Y)\n",
    "\n",
    "feat_importances = pd.Series(model.feature_importances_, index=X.columns)\n",
    "feat_importances.nlargest(10).plot(kind='barh')\n",
    "plt.show()"
   ]
  },
  {
   "cell_type": "code",
   "execution_count": 28,
   "metadata": {},
   "outputs": [
    {
     "name": "stderr",
     "output_type": "stream",
     "text": [
      "C:\\Users\\julia\\Anaconda3\\lib\\site-packages\\sklearn\\ensemble\\forest.py:245: FutureWarning: The default value of n_estimators will change from 10 in version 0.20 to 100 in 0.22.\n",
      "  \"10 in version 0.20 to 100 in 0.22.\", FutureWarning)\n"
     ]
    },
    {
     "data": {
      "image/png": "[encoded data removed]",
      "text/plain": [
       "<Figure size 432x288 with 1 Axes>"
      ]
     },
     "metadata": {
      "needs_background": "light"
     },
     "output_type": "display_data"
    }
   ],
   "source": [
    "#Categorical values\n",
    "X = categ_hier.iloc[:,0:13]\n",
    "Y = categ_hier.iloc[:,-1]\n",
    "\n",
    "model = ExtraTreesClassifier()\n",
    "model.fit(X,Y)\n",
    "\n",
    "feat_importances = pd.Series(model.feature_importances_, index=X.columns)\n",
    "feat_importances.nlargest(10).plot(kind='barh')\n",
    "plt.show()"
   ]
  },
  {
   "cell_type": "markdown",
   "metadata": {},
   "source": [
    "If we compare the first result with the result of Extra trees Feature Importance analysis (ExtT), we see that there are some differences between them. One reason could be the use of OneHotEncoding to prepare the features, as it is not recomended in Decision Trees analysis.\n",
    "Considering that, we would expect the ExtT analysis for the continuous features to be similar to the first analysis of the same features. Even thought the the best feature is not the same (GrLivArea for the first analysis and GarageArea for the second), both analysis found the two features as having one of the best relation to SalePrice.\n",
    "\n",
    "With that said, I would still believe that GrLivArea best describes SalePrice.\n"
   ]
  },
  {
   "cell_type": "code",
   "execution_count": null,
   "metadata": {},
   "outputs": [],
   "source": []
  }
 ],
 "metadata": {
  "kernelspec": {
   "display_name": "Python 3",
   "language": "python",
   "name": "python3"
  },
  "language_info": {
   "codemirror_mode": {
    "name": "ipython",
    "version": 3
   },
   "file_extension": ".py",
   "mimetype": "text/x-python",
   "name": "python",
   "nbconvert_exporter": "python",
   "pygments_lexer": "ipython3",
   "version": "3.7.3"
  }
 },
 "nbformat": 4,
 "nbformat_minor": 2
}
